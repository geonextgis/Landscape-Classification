{
 "cells": [
  {
   "cell_type": "markdown",
   "metadata": {},
   "source": [
    "## **Import Dependencies**"
   ]
  },
  {
   "cell_type": "code",
   "execution_count": 88,
   "metadata": {},
   "outputs": [],
   "source": [
    "import numpy as np\n",
    "import pandas as pd\n",
    "import matplotlib.pyplot as plt\n",
    "import seaborn as sns\n",
    "import geopandas as gpd\n",
    "import cv2\n",
    "import rasterio as rio\n",
    "from rasterio.fill import fillnodata\n",
    "import os\n",
    "from glob import glob\n",
    "from tqdm.auto import tqdm\n",
    "from landscape_helper import check_image_quality\n",
    "from pathlib import Path\n",
    "from scipy.ndimage import distance_transform_edt\n",
    "import zipfile\n",
    "import io\n",
    "\n",
    "import warnings\n",
    "warnings.filterwarnings(\"ignore\")\n",
    "\n",
    "# Define the directories\n",
    "data_dir = r\"D:\\HALDER\\GITHUB\\MSM-Research\\Landscape-Classification\\datasets\"\n",
    "out_dir = r\"D:\\HALDER\\GITHUB\\MSM-Research\\Landscape-Classification\\datasets_v1\""
   ]
  },
  {
   "cell_type": "markdown",
   "metadata": {},
   "source": [
    "## **Read the Datasets**"
   ]
  },
  {
   "cell_type": "code",
   "execution_count": 6,
   "metadata": {},
   "outputs": [
    {
     "name": "stdout",
     "output_type": "stream",
     "text": [
      "148 37 37\n"
     ]
    }
   ],
   "source": [
    "# Define the image directories\n",
    "seasonal_patches_paths = glob(rf'{data_dir}\\seasonal_patches\\*\\*.zip')\n",
    "topo_patches_paths = glob(rf'{data_dir}\\topo_patches\\*.zip')\n",
    "label_patches_paths = glob(rf'{data_dir}\\label_patches\\*.zip')\n",
    "\n",
    "# Print the number of files\n",
    "print(len(seasonal_patches_paths), len(topo_patches_paths), len(label_patches_paths))"
   ]
  },
  {
   "cell_type": "code",
   "execution_count": 7,
   "metadata": {},
   "outputs": [
    {
     "name": "stdout",
     "output_type": "stream",
     "text": [
      "Number of countries:\n",
      " ['Albania' 'Austria' 'Azores Islands' 'Belgium' 'Bosnia & Herzegovina'\n",
      " 'Bulgaria' 'Croatia' 'Czech Republic' 'Denmark' 'Estonia' 'Faroe Islands'\n",
      " 'Finland' 'France' 'Germany' 'Greece' 'Hungary' 'Iceland' 'Ireland'\n",
      " 'Italy' 'Latvia' 'Lithuania' 'Luxembourg' 'Montenegro' 'Netherlands'\n",
      " 'Norway' 'Poland' 'Portugal' 'Romania' 'Serbia' 'Slovakia' 'Slovenia'\n",
      " 'Spain' 'Sweden' 'Switzerland'\n",
      " 'The former Yugoslav Republic of Macedonia' 'Turkey'\n",
      " 'U.K. of Great Britain and Northern Ireland']\n"
     ]
    }
   ],
   "source": [
    "# Extract the country names\n",
    "country_names = [i.split('\\\\')[-1][:-4] for i in label_patches_paths]\n",
    "print('Number of countries:\\n', np.array(country_names))"
   ]
  },
  {
   "cell_type": "markdown",
   "metadata": {},
   "source": [
    "## **Data Processing**"
   ]
  },
  {
   "cell_type": "code",
   "execution_count": 46,
   "metadata": {},
   "outputs": [],
   "source": [
    "# Fuction to fill the data gaps\n",
    "def fill_gaps(image_array, max_search_distance=100, smoothing_iterations=0):\n",
    "\n",
    "    # Extract the Sentinel-2 image array\n",
    "    s2_image_array = image_array[:11]\n",
    "\n",
    "    # Calculate the sum of pixel values across the Sentinel-2 bands\n",
    "    s2_image_array_sum = s2_image_array[:9].sum(axis=0)\n",
    "\n",
    "    # Extract the NaN mask\n",
    "    nodata_mask = np.where(s2_image_array_sum==0, 0, 1)\n",
    "\n",
    "    # Apply fillnodata across all bands\n",
    "    filled_data = np.empty_like(s2_image_array)\n",
    "\n",
    "    for band in range(s2_image_array.shape[0]):  # Iterate over bands\n",
    "        filled_data[band] = fillnodata(\n",
    "            s2_image_array[band], \n",
    "            mask=nodata_mask,\n",
    "            max_search_distance=max_search_distance, \n",
    "            smoothing_iterations=smoothing_iterations\n",
    "    )\n",
    "\n",
    "    # Concatenate the remaining bands\n",
    "    filled_image_array = np.concatenate((filled_data, image_array[11:, :, :]), axis=0)\n",
    "\n",
    "    return filled_image_array"
   ]
  },
  {
   "cell_type": "code",
   "execution_count": 117,
   "metadata": {},
   "outputs": [],
   "source": [
    "# # Store all the image infos in a dictionary\n",
    "# final_info_list = []\n",
    "\n",
    "# # Iterate over all the countries\n",
    "# for country in tqdm(country_names):\n",
    "#     print('Country:', country)\n",
    "#     print('*'*50)\n",
    "\n",
    "#     # Prepare the directories for a single country\n",
    "#     country_seasonal_paths = sorted([path for path in seasonal_patches_paths if country in path])\n",
    "\n",
    "#     # Read the file names and process the data\n",
    "#     for path in country_seasonal_paths:\n",
    "\n",
    "#         # Get the season info\n",
    "#         season = path.split(\"\\\\\")[-2] # Param\n",
    "#         print('Season:', season)\n",
    "        \n",
    "#         out_country_season_path = os.path.join(out_dir, 'seasonal_patches', season, country)\n",
    "\n",
    "#         if os.path.exists(out_country_season_path):\n",
    "#             print(f\"{out_country_season_path} directory is already existed.\")\n",
    "#         else:\n",
    "#             os.mkdir(out_country_season_path)\n",
    "#             print(f\"{out_country_season_path} directory has been successfully created!\")\n",
    "        \n",
    "#         with zipfile.ZipFile(path, 'r') as zip_ref:\n",
    "#             file_names = zip_ref.namelist()\n",
    "\n",
    "#             for file_name in tqdm(file_names):\n",
    "#                 if file_name.lower().endswith(\".tif\"):  # Only process GeoTIFF images\n",
    "#                     with zip_ref.open(file_name) as file:\n",
    "#                         with rio.open(io.BytesIO(file.read())) as src:\n",
    "#                             image = src.read()  # (shape: [bands, height, width])\n",
    "\n",
    "#                             # Compute spatial NaN percentage\n",
    "#                             nan_count = np.where(image[5]==0, 1, 0).flatten().sum() # Considering a single Sentinel-2 band\n",
    "#                             total_elements = image[5].size\n",
    "#                             nan_percentage = round((nan_count / total_elements) * 100, 2)  # Param\n",
    "\n",
    "#                             # Fill the data gaps\n",
    "#                             filled_array = fill_gaps(image, max_search_distance=100, smoothing_iterations=0)\n",
    "\n",
    "#                             # Convert into float32\n",
    "#                             filled_array = filled_array.astype(np.float32)\n",
    "\n",
    "#                             # print(f\"{file_name}: {image.shape}\")  # Print shape to confirm bands\n",
    "                    \n",
    "#                             # Define the outpath\n",
    "#                             out_path = os.path.join('\\\\'.join(path.split('\\\\')[-3:-1]), country, f'{file_name[:-4]}.npy')\n",
    "                            \n",
    "#                             # Prepare the dictionary\n",
    "#                             image_info_dict = {\n",
    "#                                 'country': country,\n",
    "#                                 'season': season,\n",
    "#                                 'image_id': '_'.join(file_name.split(\"_\")[:2]),\n",
    "#                                 'nan_perc': nan_percentage,\n",
    "#                                 'path': out_path\n",
    "#                             }\n",
    "\n",
    "#                             final_info_list.append(image_info_dict)\n",
    "\n",
    "#                             # Save the image in a numpy format\n",
    "#                             np.save(os.path.join(out_dir, out_path), filled_array)\n",
    "\n",
    "#     # Convert the info list into a dataframe\n",
    "#     final_info_list_df = pd.DataFrame(final_info_list)\n",
    "#     final_info_list_df.to_csv(f'temp\\seasonal_patches_info.csv', index=False)\n"
   ]
  },
  {
   "cell_type": "code",
   "execution_count": 162,
   "metadata": {},
   "outputs": [],
   "source": [
    "# # Store all the image infos in a dictionary\n",
    "# final_info_list = []\n",
    "\n",
    "# # Read the file names and process the data\n",
    "# for path in tqdm(label_patches_paths):\n",
    "\n",
    "#     # Get the season info\n",
    "#     country = path.split('\\\\')[-1][:-4] # Param\n",
    "#     print('Country:', country)\n",
    "        \n",
    "#     out_country_path = os.path.join(out_dir, 'label_patches', country)\n",
    "\n",
    "#     if os.path.exists(out_country_path):\n",
    "#         print(f\"{out_country_path} directory is already existed.\")\n",
    "#     else:\n",
    "#         os.mkdir(out_country_path)\n",
    "#         print(f\"{out_country_path} directory has been successfully created!\")\n",
    "        \n",
    "#     with zipfile.ZipFile(path, 'r') as zip_ref:\n",
    "#         file_names = zip_ref.namelist()\n",
    "\n",
    "#         for file_name in file_names:\n",
    "#             if file_name.lower().endswith(\".tif\"):  # Only process GeoTIFF images\n",
    "#                 with zip_ref.open(file_name) as file:\n",
    "#                     try:\n",
    "#                         with rio.open(io.BytesIO(file.read())) as src:\n",
    "#                             # print(file_name)\n",
    "#                             image = src.read().astype(np.float32)  # (shape: [bands, height, width])\n",
    "\n",
    "#                             # Define the outpath\n",
    "#                             out_path = os.path.join('\\\\'.join(path.split('\\\\')[-2:-1]), country, f'{file_name[:-4]}.npy')\n",
    "                                \n",
    "#                             # Prepare the dictionary\n",
    "#                             image_info_dict = {\n",
    "#                                 'country': country,\n",
    "#                                 'image_id': '_'.join(file_name.split(\"_\")[:2]),\n",
    "#                                 'path': out_path\n",
    "#                             }\n",
    "\n",
    "#                             final_info_list.append(image_info_dict)\n",
    "\n",
    "#                             # Save the image in a numpy format\n",
    "#                             np.save(os.path.join(out_dir, out_path), image)\n",
    "#                     except:\n",
    "#                         continue\n",
    "\n",
    "# # Convert the info list into a dataframe\n",
    "# final_info_list_df = pd.DataFrame(final_info_list)\n",
    "# final_info_list_df.to_csv(rf'temp\\label_patches_info.csv', index=False)"
   ]
  }
 ],
 "metadata": {
  "kernelspec": {
   "display_name": "py310",
   "language": "python",
   "name": "python3"
  },
  "language_info": {
   "codemirror_mode": {
    "name": "ipython",
    "version": 3
   },
   "file_extension": ".py",
   "mimetype": "text/x-python",
   "name": "python",
   "nbconvert_exporter": "python",
   "pygments_lexer": "ipython3",
   "version": "3.10.16"
  }
 },
 "nbformat": 4,
 "nbformat_minor": 2
}
